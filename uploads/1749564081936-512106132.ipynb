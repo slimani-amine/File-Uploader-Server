{
  "nbformat": 4,
  "nbformat_minor": 0,
  "metadata": {
    "colab": {
      "provenance": [],
      "collapsed_sections": [
        "EkbPbVvhrPpB",
        "cCy8riGotujj"
      ]
    },
    "kernelspec": {
      "name": "python3",
      "display_name": "Python 3"
    },
    "language_info": {
      "name": "python"
    }
  },
  "cells": [
    {
      "cell_type": "markdown",
      "source": [
        "🔗 Presentation Link: [Sorting and Searching Algorithms: Performance Comparison](https://www.canva.com/design/DAGo7ZBScpc/aRnAhwlK74uoQFX5yzGS-Q/edit?utm_content=DAGo7ZBScpc&utm_campaign=designshare&utm_medium=link2&utm_source=sharebutton)\n",
        "\n",
        "🔗 Notes Link: [Sorting and Searching Algorithms: Performance Comparison Notes](https://notes.softylines.com/preview/P5T9xKNDU2iUCqBa)"
      ],
      "metadata": {
        "id": "_IMvy6xuaCC8"
      }
    },
    {
      "cell_type": "markdown",
      "source": [
        "\n",
        "# **Sorting Algorithms Comparison**\n",
        "\n"
      ],
      "metadata": {
        "id": "EkbPbVvhrPpB"
      }
    },
    {
      "cell_type": "code",
      "execution_count": null,
      "metadata": {
        "id": "IvSLrth3lWna"
      },
      "outputs": [],
      "source": [
        "def bubble_sort(arr):\n",
        "    n = len(arr)\n",
        "    for i in range(n):\n",
        "        for j in range(0, n-i-1):\n",
        "            if arr[j] > arr[j+1]:\n",
        "                arr[j], arr[j+1] = arr[j+1], arr[j]"
      ]
    },
    {
      "cell_type": "code",
      "source": [
        "def selection_sort(arr):\n",
        "    for i in range(len(arr)):\n",
        "        min_idx = i\n",
        "        for j in range(i+1, len(arr)):\n",
        "            if arr[j] < arr[min_idx]:\n",
        "                min_idx = j\n",
        "        arr[i], arr[min_idx] = arr[min_idx], arr[i]"
      ],
      "metadata": {
        "id": "4jpb4te3lcru"
      },
      "execution_count": null,
      "outputs": []
    },
    {
      "cell_type": "code",
      "source": [
        "def insertion_sort(arr):\n",
        "    for i in range(1, len(arr)):\n",
        "        key = arr[i]\n",
        "        j = i - 1\n",
        "        while j >= 0 and arr[j] > key:\n",
        "            arr[j + 1] = arr[j]\n",
        "            j -= 1\n",
        "        arr[j + 1] = key"
      ],
      "metadata": {
        "id": "AgfvtPA0lgR7"
      },
      "execution_count": null,
      "outputs": []
    },
    {
      "cell_type": "code",
      "source": [
        "def merge_sort(arr):\n",
        "    if len(arr) > 1:\n",
        "        mid = len(arr) // 2\n",
        "        L = arr[:mid]\n",
        "        R = arr[mid:]\n",
        "\n",
        "        merge_sort(L)\n",
        "        merge_sort(R)\n",
        "\n",
        "        i = j = k = 0\n",
        "        while i < len(L) and j < len(R):\n",
        "            if L[i] < R[j]:\n",
        "                arr[k] = L[i]\n",
        "                i += 1\n",
        "            else:\n",
        "                arr[k] = R[j]\n",
        "                j += 1\n",
        "            k += 1\n",
        "\n",
        "        while i < len(L):\n",
        "            arr[k] = L[i]\n",
        "            i += 1\n",
        "            k += 1\n",
        "\n",
        "        while j < len(R):\n",
        "            arr[k] = R[j]\n",
        "            j += 1\n",
        "            k += 1"
      ],
      "metadata": {
        "id": "r5ZGRY-Rli2B"
      },
      "execution_count": null,
      "outputs": []
    },
    {
      "cell_type": "code",
      "source": [
        "def quick_sort(arr):\n",
        "    if len(arr) <= 1:\n",
        "        return arr\n",
        "    pivot = arr[len(arr) // 2]\n",
        "    left = [x for x in arr if x < pivot]\n",
        "    middle = [x for x in arr if x == pivot]\n",
        "    right = [x for x in arr if x > pivot]\n",
        "    return quick_sort(left) + middle + quick_sort(right)"
      ],
      "metadata": {
        "id": "vVjf5BYcll-C"
      },
      "execution_count": null,
      "outputs": []
    },
    {
      "cell_type": "code",
      "source": [
        "def heapify(arr, n, i):\n",
        "    largest = i\n",
        "    l = 2 * i + 1\n",
        "    r = 2 * i + 2\n",
        "\n",
        "    if l < n and arr[l] > arr[largest]:\n",
        "        largest = l\n",
        "\n",
        "    if r < n and arr[r] > arr[largest]:\n",
        "        largest = r\n",
        "\n",
        "    if largest != i:\n",
        "        arr[i], arr[largest] = arr[largest], arr[i]\n",
        "        heapify(arr, n, largest)\n",
        "\n",
        "def heap_sort(arr):\n",
        "    n = len(arr)\n",
        "    for i in range(n // 2 - 1, -1, -1):\n",
        "        heapify(arr, n, i)\n",
        "    for i in range(n-1, 0, -1):\n",
        "        arr[i], arr[0] = arr[0], arr[i]\n",
        "        heapify(arr, i, 0)"
      ],
      "metadata": {
        "id": "LLuivOwalrOZ"
      },
      "execution_count": null,
      "outputs": []
    },
    {
      "cell_type": "code",
      "source": [
        "def builtin_sort(arr):\n",
        "  return sorted(arr)\n"
      ],
      "metadata": {
        "id": "zHG_JUj70vsG"
      },
      "execution_count": null,
      "outputs": []
    },
    {
      "cell_type": "code",
      "source": [
        "import random\n",
        "import time\n",
        "\n",
        "sizes = [100, 500, 1000, 2000, 5000, 10000, 20000, 50000, 100000]\n",
        "repeats = 5\n",
        "results = {}\n",
        "\n",
        "def time_sort(sort_fn, arr):\n",
        "    start = time.perf_counter()\n",
        "    sort_fn(arr.copy())\n",
        "    end = time.perf_counter()\n",
        "    return (end - start) * 1000  # ms\n",
        "\n",
        "algorithms = {\n",
        "    \"bubble_sort\": bubble_sort,\n",
        "    \"selection_sort\": selection_sort,\n",
        "    \"insertion_sort\": insertion_sort,\n",
        "    \"merge_sort\": merge_sort,\n",
        "    \"quick_sort\": lambda arr: quick_sort(arr),\n",
        "    \"heap_sort\": heap_sort,\n",
        "    \"builtin_sort\": builtin_sort,\n",
        "}\n",
        "\n",
        "for size in sizes:\n",
        "    print(f\"Testing size: {size}\")\n",
        "    arrays = [[random.randint(0, 10000) for _ in range(size)] for _ in range(5)]\n",
        "    results[size] = {}\n",
        "    for name, fn in algorithms.items():\n",
        "        if name in [\"bubble_sort\", \"selection_sort\", \"insertion_sort\"] and size > 20000:\n",
        "            print(f\"{name} SKIPPED for size {size}\")\n",
        "            results[size][name] = \"SKIPPED\"\n",
        "            continue\n",
        "        print(f\"  Running {name}...\")\n",
        "        times = []\n",
        "        for arr in arrays:\n",
        "            times.extend([time_sort(fn, arr) for _ in range(repeats)])\n",
        "        avg_time = sum(times) / len(times)\n",
        "        print(f\"    Avg time: {avg_time:.2f} ms\")\n",
        "        results[size][name] = avg_time"
      ],
      "metadata": {
        "colab": {
          "base_uri": "https://localhost:8080/"
        },
        "collapsed": true,
        "id": "9y8VFTsflt2y",
        "outputId": "9865b8b1-3e99-4aad-8415-99343669c9cc"
      },
      "execution_count": null,
      "outputs": [
        {
          "output_type": "stream",
          "name": "stdout",
          "text": [
            "Testing size: 100\n",
            "  Running bubble_sort...\n",
            "    Avg time: 0.51 ms\n",
            "  Running selection_sort...\n",
            "    Avg time: 0.23 ms\n",
            "  Running insertion_sort...\n",
            "    Avg time: 0.22 ms\n",
            "  Running merge_sort...\n",
            "    Avg time: 0.14 ms\n",
            "  Running quick_sort...\n",
            "    Avg time: 0.14 ms\n",
            "  Running heap_sort...\n",
            "    Avg time: 0.15 ms\n",
            "  Running builtin_sort...\n",
            "    Avg time: 0.01 ms\n",
            "Testing size: 500\n",
            "  Running bubble_sort...\n",
            "    Avg time: 10.77 ms\n",
            "  Running selection_sort...\n",
            "    Avg time: 5.68 ms\n",
            "  Running insertion_sort...\n",
            "    Avg time: 4.93 ms\n",
            "  Running merge_sort...\n",
            "    Avg time: 0.81 ms\n",
            "  Running quick_sort...\n",
            "    Avg time: 0.83 ms\n",
            "  Running heap_sort...\n",
            "    Avg time: 1.03 ms\n",
            "  Running builtin_sort...\n",
            "    Avg time: 0.05 ms\n",
            "Testing size: 1000\n",
            "  Running bubble_sort...\n",
            "    Avg time: 48.73 ms\n",
            "  Running selection_sort...\n",
            "    Avg time: 24.15 ms\n",
            "  Running insertion_sort...\n",
            "    Avg time: 21.16 ms\n",
            "  Running merge_sort...\n",
            "    Avg time: 1.82 ms\n",
            "  Running quick_sort...\n",
            "    Avg time: 1.93 ms\n",
            "  Running heap_sort...\n",
            "    Avg time: 3.01 ms\n",
            "  Running builtin_sort...\n",
            "    Avg time: 0.14 ms\n"
          ]
        }
      ]
    },
    {
      "cell_type": "markdown",
      "source": [
        "\n",
        "# **Searching Algorithms Comparison**\n"
      ],
      "metadata": {
        "id": "cCy8riGotujj"
      }
    },
    {
      "cell_type": "code",
      "source": [
        "def linear_search(arr, target):\n",
        "    for i, val in enumerate(arr):\n",
        "        if val == target:\n",
        "            return i\n",
        "    return -1"
      ],
      "metadata": {
        "id": "6uDP86BSrPZU"
      },
      "execution_count": null,
      "outputs": []
    },
    {
      "cell_type": "code",
      "source": [
        "def binary_search(arr, target):\n",
        "    low, high = 0, len(arr) - 1\n",
        "    while low <= high:\n",
        "        mid = (low + high) // 2\n",
        "        if arr[mid] == target:\n",
        "            return mid\n",
        "        elif arr[mid] < target:\n",
        "            low = mid + 1\n",
        "        else:\n",
        "            high = mid - 1\n",
        "    return -1"
      ],
      "metadata": {
        "id": "eVyVWOyCrUjp"
      },
      "execution_count": null,
      "outputs": []
    },
    {
      "cell_type": "code",
      "source": [
        "def time_search(search_fn, arr, targets):\n",
        "    start = time.perf_counter()\n",
        "    for target in targets:\n",
        "        search_fn(arr, target)\n",
        "    end = time.perf_counter()\n",
        "    return (end - start) * 1e6 / len(targets)  # μs per search\n",
        "\n",
        "search_results = {}\n",
        "\n",
        "for size in sizes:\n",
        "    print(f\"Searching size: {size}\")\n",
        "    arr = sorted(random.randint(0, 10000) for _ in range(size))\n",
        "    targets = [random.choice(arr) for _ in range(10000)]\n",
        "\n",
        "    best_case_target = arr[0]\n",
        "    worst_case_target = 10001  # not in list\n",
        "\n",
        "    linear_best = time_search(linear_search, arr, [best_case_target]*10000)\n",
        "    linear_worst = time_search(linear_search, arr, [worst_case_target]*10000)\n",
        "    binary = time_search(binary_search, arr, targets)\n",
        "\n",
        "    print(f\"  Linear Best: {linear_best:.2f} μs/search\")\n",
        "    print(f\"  Linear Worst: {linear_worst:.2f} μs/search\")\n",
        "    print(f\"  Binary: {binary:.2f} μs/search\")\n",
        "\n",
        "    search_results[size] = {\n",
        "        \"linear_best\": linear_best,\n",
        "        \"linear_worst\": linear_worst,\n",
        "        \"binary\": binary\n",
        "    }"
      ],
      "metadata": {
        "colab": {
          "base_uri": "https://localhost:8080/"
        },
        "id": "ZNvEF1lhrXSB",
        "outputId": "7e7ecfa1-d170-4a6d-9dc1-ae01c7a387f3"
      },
      "execution_count": null,
      "outputs": [
        {
          "output_type": "stream",
          "name": "stdout",
          "text": [
            "Searching size: 100\n",
            "  Linear Best: 0.21 μs/search\n",
            "  Linear Worst: 3.80 μs/search\n",
            "  Binary: 0.65 μs/search\n",
            "Searching size: 500\n",
            "  Linear Best: 0.20 μs/search\n",
            "  Linear Worst: 20.85 μs/search\n",
            "  Binary: 1.16 μs/search\n",
            "Searching size: 1000\n",
            "  Linear Best: 0.23 μs/search\n",
            "  Linear Worst: 45.59 μs/search\n",
            "  Binary: 1.23 μs/search\n"
          ]
        }
      ]
    }
  ]
}